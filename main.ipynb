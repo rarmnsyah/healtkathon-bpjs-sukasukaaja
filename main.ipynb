{
 "cells": [
  {
   "cell_type": "code",
   "execution_count": 19,
   "id": "ab640a28",
   "metadata": {},
   "outputs": [],
   "source": [
    "import pandas as pd\n",
    "import os\n",
    "\n",
    "from zipfile import ZipFile\n",
    "from pandas.io.stata import StataReader"
   ]
  },
  {
   "cell_type": "code",
   "execution_count": 2,
   "id": "6e02fd4b",
   "metadata": {},
   "outputs": [],
   "source": [
    "# cwd = os.getcwd()\n",
    "# dataset_path_zipped = os.path.join(cwd, 'Data Sampel Final 2022-20230608T163803Z-001.zip')\n",
    "\n",
    "# with ZipFile(dataset_path_zipped, 'r') as zObject:\n",
    "#     zObject.extractall(path = cwd)\n"
   ]
  },
  {
   "cell_type": "code",
   "execution_count": 16,
   "id": "e3a99bec",
   "metadata": {},
   "outputs": [
    {
     "data": {
      "text/plain": [
       "[['C:\\\\Users\\\\LENOVO\\\\GitHub\\\\healthkathon-bpjs-sukasukaaja\\\\Data Sampel Final 2022\\\\Reguler\\\\2015202101_kepesertaan.dta',\n",
       "  0],\n",
       " ['C:\\\\Users\\\\LENOVO\\\\GitHub\\\\healthkathon-bpjs-sukasukaaja\\\\Data Sampel Final 2022\\\\Reguler\\\\202103_fkrtl.dta',\n",
       "  1],\n",
       " ['C:\\\\Users\\\\LENOVO\\\\GitHub\\\\healthkathon-bpjs-sukasukaaja\\\\Data Sampel Final 2022\\\\Reguler\\\\202104_nonkapitasi.dta',\n",
       "  2],\n",
       " ['C:\\\\Users\\\\LENOVO\\\\GitHub\\\\healthkathon-bpjs-sukasukaaja\\\\Data Sampel Final 2022\\\\Reguler\\\\202105_diagnosissekunder.dta',\n",
       "  3],\n",
       " ['C:\\\\Users\\\\LENOVO\\\\GitHub\\\\healthkathon-bpjs-sukasukaaja\\\\Data Sampel Final 2022\\\\Kontekstual TB\\\\TB20152021_fkrtl.dta',\n",
       "  4],\n",
       " ['C:\\\\Users\\\\LENOVO\\\\GitHub\\\\healthkathon-bpjs-sukasukaaja\\\\Data Sampel Final 2022\\\\Kontekstual TB\\\\TB20152021_fkrtldxsekunder.dta',\n",
       "  5],\n",
       " ['C:\\\\Users\\\\LENOVO\\\\GitHub\\\\healthkathon-bpjs-sukasukaaja\\\\Data Sampel Final 2022\\\\Kontekstual TB\\\\TB20152021_fktpnonkapitasi.dta',\n",
       "  6],\n",
       " ['C:\\\\Users\\\\LENOVO\\\\GitHub\\\\healthkathon-bpjs-sukasukaaja\\\\Data Sampel Final 2022\\\\Kontekstual TB\\\\TB2019_kepesertaan.dta',\n",
       "  7],\n",
       " ['C:\\\\Users\\\\LENOVO\\\\GitHub\\\\healthkathon-bpjs-sukasukaaja\\\\Data Sampel Final 2022\\\\Kontekstual TB\\\\TB2021_kepesertaan.dta',\n",
       "  8],\n",
       " ['C:\\\\Users\\\\LENOVO\\\\GitHub\\\\healthkathon-bpjs-sukasukaaja\\\\Data Sampel Final 2022\\\\Kontekstual DM\\\\DM2019_kepesertaan.dta',\n",
       "  9],\n",
       " ['C:\\\\Users\\\\LENOVO\\\\GitHub\\\\healthkathon-bpjs-sukasukaaja\\\\Data Sampel Final 2022\\\\Kontekstual DM\\\\DM2020_kepesertaan.dta',\n",
       "  10],\n",
       " ['C:\\\\Users\\\\LENOVO\\\\GitHub\\\\healthkathon-bpjs-sukasukaaja\\\\Data Sampel Final 2022\\\\Kontekstual DM\\\\DM2021_fkrtl.dta',\n",
       "  11],\n",
       " ['C:\\\\Users\\\\LENOVO\\\\GitHub\\\\healthkathon-bpjs-sukasukaaja\\\\Data Sampel Final 2022\\\\Kontekstual DM\\\\DM2021_fkrtldxsekunder.dta',\n",
       "  12],\n",
       " ['C:\\\\Users\\\\LENOVO\\\\GitHub\\\\healthkathon-bpjs-sukasukaaja\\\\Data Sampel Final 2022\\\\Kontekstual DM\\\\DM2021_fktpkapitasi.dta',\n",
       "  13],\n",
       " ['C:\\\\Users\\\\LENOVO\\\\GitHub\\\\healthkathon-bpjs-sukasukaaja\\\\Data Sampel Final 2022\\\\Kontekstual DM\\\\DM2021_fktpnonkapitasi.dta',\n",
       "  14],\n",
       " ['C:\\\\Users\\\\LENOVO\\\\GitHub\\\\healthkathon-bpjs-sukasukaaja\\\\Data Sampel Final 2022\\\\Kontekstual DM\\\\DM2021_kepesertaan.dta',\n",
       "  15]]"
      ]
     },
     "execution_count": 16,
     "metadata": {},
     "output_type": "execute_result"
    }
   ],
   "source": [
    "cwd = os.getcwd()\n",
    "dataset_path_unzipped = os.path.join(cwd, 'Data Sampel Final 2022')\n",
    "\n",
    "dataset_raw = os.listdir(dataset_path_unzipped)\n",
    "\n",
    "# get all dataset path (not directory) into one variable (dataset_file_path)\n",
    "folder = [os.path.join(dataset_path_unzipped, dataset) for dataset in dataset_raw if os.path.isdir(os.path.join(dataset_path_unzipped, dataset))]\n",
    "dataset_file_path = []\n",
    "i = 0\n",
    "\n",
    "while folder:\n",
    "    folder_pop = folder.pop()\n",
    "    temps = os.listdir(folder_pop)\n",
    "    for temp in temps:\n",
    "        if os.path.isdir(os.path.join(folder_pop, temp)):\n",
    "            folder.append(os.path.join(folder_pop, temp))\n",
    "        else:\n",
    "            if temp.split('.')[1] == 'dta':\n",
    "                dataset_file_path.append([os.path.join(folder_pop, temp), i])\n",
    "                i += 1\n",
    "\n",
    "dataset_file_path"
   ]
  },
  {
   "cell_type": "code",
   "execution_count": null,
   "id": "1a7cfe64",
   "metadata": {},
   "outputs": [],
   "source": [
    "def dostata(dofile, *params):\n",
    "    cmd = [\"C:\\Program Files (x86)\\Stata12\\Stata-64\",\"/e\",\"do\", dofile]         \n",
    "    for param in params:\n",
    "        cmd.append(param)\n",
    "    return (subprocess.call(cmd, cwd=r'C:\\location_to_save_log_files'))"
   ]
  },
  {
   "cell_type": "code",
   "execution_count": 22,
   "id": "ddf66244",
   "metadata": {},
   "outputs": [
    {
     "name": "stdout",
     "output_type": "stream",
     "text": [
      "{'PSTV01': 'Nomor Peserta', 'PSTV02': 'Nomor keluarga', 'PSTV15': 'Bobot', 'PNK02': 'ID Kunjungan', 'PNK03': 'Tanggal kunjungan', 'PNK04': 'Tanggal tindakan', 'PNK05': 'Tanggal pulang', 'PNK06': 'Provinsi faskes', 'PNK07': 'Kode Kab/Kota faskes', 'PNK08': 'Kepemilikan faskes', 'PNK09': 'Jenis faskes', 'PNK10': 'Tipe faskes', 'PNK11': 'Tingkat layanan', 'PNK12': 'Segmen peserta', 'PNK13': 'Kode dan Nama diagnosis berdasarkan ICD-10 (3 digit)', 'PNK13A': 'Kode diagnosis berdasarkan ICD-10 (3 digit)', 'PNK14': 'Kode diagnosis (3-5 digit)', 'PNK15': 'Nama Diagnosis', 'PNK16': 'Nama Tindakan', 'PNK17': 'Biaya tagih', 'PNK18': 'Biaya verifikasi'}\n"
     ]
    },
    {
     "data": {
      "text/plain": [
       "<pandas.io.stata.StataReader at 0x1bb41da77f0>"
      ]
     },
     "execution_count": 22,
     "metadata": {},
     "output_type": "execute_result"
    }
   ],
   "source": [
    "def read_file(path):\n",
    "    format_data = path.split('.')[1]\n",
    "    if format_data == 'dta':\n",
    "        df = pd.read_stata(path, iterator = True)\n",
    "#         df = StataReader(r'{}'.format(path))\n",
    "        var_labels = df.variable_labels()\n",
    "        print(var_labels)\n",
    "    else:\n",
    "        df = pd.read_excel(path)\n",
    "    return df\n",
    "\n",
    "read_file(dataset_file_path[2][0])."
   ]
  },
  {
   "cell_type": "code",
   "execution_count": null,
   "id": "9afbc25b",
   "metadata": {},
   "outputs": [],
   "source": []
  }
 ],
 "metadata": {
  "kernelspec": {
   "display_name": "Python 3 (ipykernel)",
   "language": "python",
   "name": "python3"
  },
  "language_info": {
   "codemirror_mode": {
    "name": "ipython",
    "version": 3
   },
   "file_extension": ".py",
   "mimetype": "text/x-python",
   "name": "python",
   "nbconvert_exporter": "python",
   "pygments_lexer": "ipython3",
   "version": "3.9.17"
  }
 },
 "nbformat": 4,
 "nbformat_minor": 5
}
