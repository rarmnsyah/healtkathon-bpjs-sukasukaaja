{
 "cells": [
  {
   "cell_type": "code",
   "execution_count": 1,
   "id": "9327bae0",
   "metadata": {},
   "outputs": [],
   "source": [
    "import pandas as pd\n",
    "import os\n",
    "\n",
    "from zipfile import ZipFile"
   ]
  },
  {
   "cell_type": "code",
   "execution_count": 2,
   "id": "5391788f",
   "metadata": {},
   "outputs": [],
   "source": [
    "# cwd = os.getcwd()\n",
    "# dataset_path_zipped = os.path.join(cwd, 'Data Sampel Final 2022-20230608T163803Z-001.zip')\n",
    "\n",
    "# with ZipFile(dataset_path_zipped, 'r') as zObject:\n",
    "#     zObject.extractall(path = cwd)\n"
   ]
  },
  {
   "cell_type": "code",
   "execution_count": 47,
   "id": "3fbcd0f4",
   "metadata": {},
   "outputs": [
    {
     "data": {
      "text/plain": [
       "['C:\\\\Users\\\\LENOVO\\\\GitHub\\\\healthkathon-bpjs-sukasukaaja\\\\Data Sampel Final 2022\\\\Reguler\\\\2015202101_kepesertaan.dta',\n",
       " 'C:\\\\Users\\\\LENOVO\\\\GitHub\\\\healthkathon-bpjs-sukasukaaja\\\\Data Sampel Final 2022\\\\Reguler\\\\202103_fkrtl.dta',\n",
       " 'C:\\\\Users\\\\LENOVO\\\\GitHub\\\\healthkathon-bpjs-sukasukaaja\\\\Data Sampel Final 2022\\\\Reguler\\\\202104_nonkapitasi.dta',\n",
       " 'C:\\\\Users\\\\LENOVO\\\\GitHub\\\\healthkathon-bpjs-sukasukaaja\\\\Data Sampel Final 2022\\\\Reguler\\\\202105_diagnosissekunder.dta',\n",
       " 'C:\\\\Users\\\\LENOVO\\\\GitHub\\\\healthkathon-bpjs-sukasukaaja\\\\Data Sampel Final 2022\\\\Reguler\\\\2022 Metadata Data Sampel BPJS Kesehatan.xlsx',\n",
       " 'C:\\\\Users\\\\LENOVO\\\\GitHub\\\\healthkathon-bpjs-sukasukaaja\\\\Data Sampel Final 2022\\\\Reguler\\\\Dofiles',\n",
       " 'C:\\\\Users\\\\LENOVO\\\\GitHub\\\\healthkathon-bpjs-sukasukaaja\\\\Data Sampel Final 2022\\\\Reguler\\\\Kode diagnosis ICD10',\n",
       " 'C:\\\\Users\\\\LENOVO\\\\GitHub\\\\healthkathon-bpjs-sukasukaaja\\\\Data Sampel Final 2022\\\\Kontekstual TB\\\\2022 Metadata Data Sampel BPJS Kesehatan.xlsx',\n",
       " 'C:\\\\Users\\\\LENOVO\\\\GitHub\\\\healthkathon-bpjs-sukasukaaja\\\\Data Sampel Final 2022\\\\Kontekstual TB\\\\Dofiles',\n",
       " 'C:\\\\Users\\\\LENOVO\\\\GitHub\\\\healthkathon-bpjs-sukasukaaja\\\\Data Sampel Final 2022\\\\Kontekstual TB\\\\Kode diagnosis ICD10',\n",
       " 'C:\\\\Users\\\\LENOVO\\\\GitHub\\\\healthkathon-bpjs-sukasukaaja\\\\Data Sampel Final 2022\\\\Kontekstual TB\\\\TB20152021_fkrtl.dta',\n",
       " 'C:\\\\Users\\\\LENOVO\\\\GitHub\\\\healthkathon-bpjs-sukasukaaja\\\\Data Sampel Final 2022\\\\Kontekstual TB\\\\TB20152021_fkrtldxsekunder.dta',\n",
       " 'C:\\\\Users\\\\LENOVO\\\\GitHub\\\\healthkathon-bpjs-sukasukaaja\\\\Data Sampel Final 2022\\\\Kontekstual TB\\\\TB20152021_fktpnonkapitasi.dta',\n",
       " 'C:\\\\Users\\\\LENOVO\\\\GitHub\\\\healthkathon-bpjs-sukasukaaja\\\\Data Sampel Final 2022\\\\Kontekstual TB\\\\TB2019_kepesertaan.dta',\n",
       " 'C:\\\\Users\\\\LENOVO\\\\GitHub\\\\healthkathon-bpjs-sukasukaaja\\\\Data Sampel Final 2022\\\\Kontekstual TB\\\\TB2020_kepesertaan.dta',\n",
       " 'C:\\\\Users\\\\LENOVO\\\\GitHub\\\\healthkathon-bpjs-sukasukaaja\\\\Data Sampel Final 2022\\\\Kontekstual TB\\\\TB2021_kepesertaan.dta',\n",
       " 'C:\\\\Users\\\\LENOVO\\\\GitHub\\\\healthkathon-bpjs-sukasukaaja\\\\Data Sampel Final 2022\\\\Kontekstual DM\\\\DM2019_kepesertaan.dta',\n",
       " 'C:\\\\Users\\\\LENOVO\\\\GitHub\\\\healthkathon-bpjs-sukasukaaja\\\\Data Sampel Final 2022\\\\Kontekstual DM\\\\DM2020_kepesertaan.dta',\n",
       " 'C:\\\\Users\\\\LENOVO\\\\GitHub\\\\healthkathon-bpjs-sukasukaaja\\\\Data Sampel Final 2022\\\\Kontekstual DM\\\\DM2021_fkrtl.dta',\n",
       " 'C:\\\\Users\\\\LENOVO\\\\GitHub\\\\healthkathon-bpjs-sukasukaaja\\\\Data Sampel Final 2022\\\\Kontekstual DM\\\\DM2021_fkrtldxsekunder.dta',\n",
       " 'C:\\\\Users\\\\LENOVO\\\\GitHub\\\\healthkathon-bpjs-sukasukaaja\\\\Data Sampel Final 2022\\\\Kontekstual DM\\\\DM2021_fktpkapitasi.dta',\n",
       " 'C:\\\\Users\\\\LENOVO\\\\GitHub\\\\healthkathon-bpjs-sukasukaaja\\\\Data Sampel Final 2022\\\\Kontekstual DM\\\\DM2021_fktpnonkapitasi.dta',\n",
       " 'C:\\\\Users\\\\LENOVO\\\\GitHub\\\\healthkathon-bpjs-sukasukaaja\\\\Data Sampel Final 2022\\\\Kontekstual DM\\\\DM2021_kepesertaan.dta',\n",
       " 'C:\\\\Users\\\\LENOVO\\\\GitHub\\\\healthkathon-bpjs-sukasukaaja\\\\Data Sampel Final 2022\\\\Kontekstual DM\\\\Dofiles',\n",
       " 'C:\\\\Users\\\\LENOVO\\\\GitHub\\\\healthkathon-bpjs-sukasukaaja\\\\Data Sampel Final 2022\\\\Kontekstual DM\\\\Kode diagnosis ICD10']"
      ]
     },
     "execution_count": 47,
     "metadata": {},
     "output_type": "execute_result"
    }
   ],
   "source": [
    "cwd = os.getcwd()\n",
    "dataset_path_unzipped = os.path.join(cwd, 'Data Sampel Final 2022')\n",
    "\n",
    "dataset_raw = os.listdir(dataset_path_unzipped)\n",
    "\n",
    "# get all dataset path (not directory) into one variable (dataset_file_path)\n",
    "folder = [os.path.join(dataset_path_unzipped, dataset) for dataset in dataset_raw if os.path.isdir(os.path.join(dataset_path_unzipped, dataset))]\n",
    "dataset_file_path = []\n",
    "while folder:\n",
    "    folder_pop = folder.pop()\n",
    "    temps = os.listdir(folder_pop)\n",
    "    for temp in temps:\n",
    "        if os.path.isdir(os.path.join(temp)):\n",
    "            folder.append(os.path.join(folder_pop, temp))\n",
    "        else:\n",
    "            dataset_file_path.append(os.path.join(folder_pop, temp))\n",
    "\n",
    "dataset_file_path"
   ]
  },
  {
   "cell_type": "code",
   "execution_count": 49,
   "id": "79be5609",
   "metadata": {},
   "outputs": [
    {
     "ename": "ValueError",
     "evalue": "Version of given Stata file is 80. pandas supports importing versions 105, 108, 111 (Stata 7SE), 113 (Stata 8/9), 114 (Stata 10/11), 115 (Stata 12), 117 (Stata 13), 118 (Stata 14/15/16),and 119 (Stata 15/16, over 32,767 variables).",
     "output_type": "error",
     "traceback": [
      "\u001b[1;31m---------------------------------------------------------------------------\u001b[0m",
      "\u001b[1;31mValueError\u001b[0m                                Traceback (most recent call last)",
      "\u001b[1;32m~\\AppData\\Local\\Temp\\ipykernel_8308\\3176556183.py\u001b[0m in \u001b[0;36m<module>\u001b[1;34m\u001b[0m\n\u001b[0;32m      3\u001b[0m     \u001b[1;32mreturn\u001b[0m \u001b[0mdf\u001b[0m\u001b[1;33m\u001b[0m\u001b[1;33m\u001b[0m\u001b[0m\n\u001b[0;32m      4\u001b[0m \u001b[1;33m\u001b[0m\u001b[0m\n\u001b[1;32m----> 5\u001b[1;33m \u001b[0mread_file\u001b[0m\u001b[1;33m(\u001b[0m\u001b[0mdataset_file_path\u001b[0m\u001b[1;33m[\u001b[0m\u001b[1;36m4\u001b[0m\u001b[1;33m]\u001b[0m\u001b[1;33m)\u001b[0m\u001b[1;33m\u001b[0m\u001b[1;33m\u001b[0m\u001b[0m\n\u001b[0m",
      "\u001b[1;32m~\\AppData\\Local\\Temp\\ipykernel_8308\\3176556183.py\u001b[0m in \u001b[0;36mread_file\u001b[1;34m(path, format)\u001b[0m\n\u001b[0;32m      1\u001b[0m \u001b[1;32mdef\u001b[0m \u001b[0mread_file\u001b[0m\u001b[1;33m(\u001b[0m\u001b[0mpath\u001b[0m\u001b[1;33m,\u001b[0m \u001b[0mformat\u001b[0m \u001b[1;33m=\u001b[0m \u001b[1;34m'dta'\u001b[0m\u001b[1;33m)\u001b[0m\u001b[1;33m:\u001b[0m\u001b[1;33m\u001b[0m\u001b[1;33m\u001b[0m\u001b[0m\n\u001b[1;32m----> 2\u001b[1;33m     \u001b[0mdf\u001b[0m \u001b[1;33m=\u001b[0m \u001b[0mpd\u001b[0m\u001b[1;33m.\u001b[0m\u001b[0mread_stata\u001b[0m\u001b[1;33m(\u001b[0m\u001b[0mpath\u001b[0m\u001b[1;33m)\u001b[0m\u001b[1;33m\u001b[0m\u001b[1;33m\u001b[0m\u001b[0m\n\u001b[0m\u001b[0;32m      3\u001b[0m     \u001b[1;32mreturn\u001b[0m \u001b[0mdf\u001b[0m\u001b[1;33m\u001b[0m\u001b[1;33m\u001b[0m\u001b[0m\n\u001b[0;32m      4\u001b[0m \u001b[1;33m\u001b[0m\u001b[0m\n\u001b[0;32m      5\u001b[0m \u001b[0mread_file\u001b[0m\u001b[1;33m(\u001b[0m\u001b[0mdataset_file_path\u001b[0m\u001b[1;33m[\u001b[0m\u001b[1;36m4\u001b[0m\u001b[1;33m]\u001b[0m\u001b[1;33m)\u001b[0m\u001b[1;33m\u001b[0m\u001b[1;33m\u001b[0m\u001b[0m\n",
      "\u001b[1;32m~\\anaconda3\\lib\\site-packages\\pandas\\util\\_decorators.py\u001b[0m in \u001b[0;36mwrapper\u001b[1;34m(*args, **kwargs)\u001b[0m\n\u001b[0;32m    329\u001b[0m                     \u001b[0mstacklevel\u001b[0m\u001b[1;33m=\u001b[0m\u001b[0mfind_stack_level\u001b[0m\u001b[1;33m(\u001b[0m\u001b[1;33m)\u001b[0m\u001b[1;33m,\u001b[0m\u001b[1;33m\u001b[0m\u001b[1;33m\u001b[0m\u001b[0m\n\u001b[0;32m    330\u001b[0m                 )\n\u001b[1;32m--> 331\u001b[1;33m             \u001b[1;32mreturn\u001b[0m \u001b[0mfunc\u001b[0m\u001b[1;33m(\u001b[0m\u001b[1;33m*\u001b[0m\u001b[0margs\u001b[0m\u001b[1;33m,\u001b[0m \u001b[1;33m**\u001b[0m\u001b[0mkwargs\u001b[0m\u001b[1;33m)\u001b[0m\u001b[1;33m\u001b[0m\u001b[1;33m\u001b[0m\u001b[0m\n\u001b[0m\u001b[0;32m    332\u001b[0m \u001b[1;33m\u001b[0m\u001b[0m\n\u001b[0;32m    333\u001b[0m         \u001b[1;31m# error: \"Callable[[VarArg(Any), KwArg(Any)], Any]\" has no\u001b[0m\u001b[1;33m\u001b[0m\u001b[1;33m\u001b[0m\u001b[0m\n",
      "\u001b[1;32m~\\anaconda3\\lib\\site-packages\\pandas\\io\\stata.py\u001b[0m in \u001b[0;36mread_stata\u001b[1;34m(filepath_or_buffer, convert_dates, convert_categoricals, index_col, convert_missing, preserve_dtypes, columns, order_categoricals, chunksize, iterator, compression, storage_options)\u001b[0m\n\u001b[0;32m   2018\u001b[0m ) -> DataFrame | StataReader:\n\u001b[0;32m   2019\u001b[0m \u001b[1;33m\u001b[0m\u001b[0m\n\u001b[1;32m-> 2020\u001b[1;33m     reader = StataReader(\n\u001b[0m\u001b[0;32m   2021\u001b[0m         \u001b[0mfilepath_or_buffer\u001b[0m\u001b[1;33m,\u001b[0m\u001b[1;33m\u001b[0m\u001b[1;33m\u001b[0m\u001b[0m\n\u001b[0;32m   2022\u001b[0m         \u001b[0mconvert_dates\u001b[0m\u001b[1;33m=\u001b[0m\u001b[0mconvert_dates\u001b[0m\u001b[1;33m,\u001b[0m\u001b[1;33m\u001b[0m\u001b[1;33m\u001b[0m\u001b[0m\n",
      "\u001b[1;32m~\\anaconda3\\lib\\site-packages\\pandas\\io\\stata.py\u001b[0m in \u001b[0;36m__init__\u001b[1;34m(self, path_or_buf, convert_dates, convert_categoricals, index_col, convert_missing, preserve_dtypes, columns, order_categoricals, chunksize, compression, storage_options)\u001b[0m\n\u001b[0;32m   1171\u001b[0m             \u001b[0mself\u001b[0m\u001b[1;33m.\u001b[0m\u001b[0mpath_or_buf\u001b[0m \u001b[1;33m=\u001b[0m \u001b[0mBytesIO\u001b[0m\u001b[1;33m(\u001b[0m\u001b[0mhandles\u001b[0m\u001b[1;33m.\u001b[0m\u001b[0mhandle\u001b[0m\u001b[1;33m.\u001b[0m\u001b[0mread\u001b[0m\u001b[1;33m(\u001b[0m\u001b[1;33m)\u001b[0m\u001b[1;33m)\u001b[0m\u001b[1;33m\u001b[0m\u001b[1;33m\u001b[0m\u001b[0m\n\u001b[0;32m   1172\u001b[0m \u001b[1;33m\u001b[0m\u001b[0m\n\u001b[1;32m-> 1173\u001b[1;33m         \u001b[0mself\u001b[0m\u001b[1;33m.\u001b[0m\u001b[0m_read_header\u001b[0m\u001b[1;33m(\u001b[0m\u001b[1;33m)\u001b[0m\u001b[1;33m\u001b[0m\u001b[1;33m\u001b[0m\u001b[0m\n\u001b[0m\u001b[0;32m   1174\u001b[0m         \u001b[0mself\u001b[0m\u001b[1;33m.\u001b[0m\u001b[0m_setup_dtype\u001b[0m\u001b[1;33m(\u001b[0m\u001b[1;33m)\u001b[0m\u001b[1;33m\u001b[0m\u001b[1;33m\u001b[0m\u001b[0m\n\u001b[0;32m   1175\u001b[0m \u001b[1;33m\u001b[0m\u001b[0m\n",
      "\u001b[1;32m~\\anaconda3\\lib\\site-packages\\pandas\\io\\stata.py\u001b[0m in \u001b[0;36m_read_header\u001b[1;34m(self)\u001b[0m\n\u001b[0;32m   1200\u001b[0m             \u001b[0mself\u001b[0m\u001b[1;33m.\u001b[0m\u001b[0m_read_new_header\u001b[0m\u001b[1;33m(\u001b[0m\u001b[1;33m)\u001b[0m\u001b[1;33m\u001b[0m\u001b[1;33m\u001b[0m\u001b[0m\n\u001b[0;32m   1201\u001b[0m         \u001b[1;32melse\u001b[0m\u001b[1;33m:\u001b[0m\u001b[1;33m\u001b[0m\u001b[1;33m\u001b[0m\u001b[0m\n\u001b[1;32m-> 1202\u001b[1;33m             \u001b[0mself\u001b[0m\u001b[1;33m.\u001b[0m\u001b[0m_read_old_header\u001b[0m\u001b[1;33m(\u001b[0m\u001b[0mfirst_char\u001b[0m\u001b[1;33m)\u001b[0m\u001b[1;33m\u001b[0m\u001b[1;33m\u001b[0m\u001b[0m\n\u001b[0m\u001b[0;32m   1203\u001b[0m \u001b[1;33m\u001b[0m\u001b[0m\n\u001b[0;32m   1204\u001b[0m         \u001b[0mself\u001b[0m\u001b[1;33m.\u001b[0m\u001b[0mhas_string_data\u001b[0m \u001b[1;33m=\u001b[0m \u001b[0mlen\u001b[0m\u001b[1;33m(\u001b[0m\u001b[1;33m[\u001b[0m\u001b[0mx\u001b[0m \u001b[1;32mfor\u001b[0m \u001b[0mx\u001b[0m \u001b[1;32min\u001b[0m \u001b[0mself\u001b[0m\u001b[1;33m.\u001b[0m\u001b[0mtyplist\u001b[0m \u001b[1;32mif\u001b[0m \u001b[0mtype\u001b[0m\u001b[1;33m(\u001b[0m\u001b[0mx\u001b[0m\u001b[1;33m)\u001b[0m \u001b[1;32mis\u001b[0m \u001b[0mint\u001b[0m\u001b[1;33m]\u001b[0m\u001b[1;33m)\u001b[0m \u001b[1;33m>\u001b[0m \u001b[1;36m0\u001b[0m\u001b[1;33m\u001b[0m\u001b[1;33m\u001b[0m\u001b[0m\n",
      "\u001b[1;32m~\\anaconda3\\lib\\site-packages\\pandas\\io\\stata.py\u001b[0m in \u001b[0;36m_read_old_header\u001b[1;34m(self, first_char)\u001b[0m\n\u001b[0;32m   1404\u001b[0m         \u001b[0mself\u001b[0m\u001b[1;33m.\u001b[0m\u001b[0mformat_version\u001b[0m \u001b[1;33m=\u001b[0m \u001b[0mstruct\u001b[0m\u001b[1;33m.\u001b[0m\u001b[0munpack\u001b[0m\u001b[1;33m(\u001b[0m\u001b[1;34m\"b\"\u001b[0m\u001b[1;33m,\u001b[0m \u001b[0mfirst_char\u001b[0m\u001b[1;33m)\u001b[0m\u001b[1;33m[\u001b[0m\u001b[1;36m0\u001b[0m\u001b[1;33m]\u001b[0m\u001b[1;33m\u001b[0m\u001b[1;33m\u001b[0m\u001b[0m\n\u001b[0;32m   1405\u001b[0m         \u001b[1;32mif\u001b[0m \u001b[0mself\u001b[0m\u001b[1;33m.\u001b[0m\u001b[0mformat_version\u001b[0m \u001b[1;32mnot\u001b[0m \u001b[1;32min\u001b[0m \u001b[1;33m[\u001b[0m\u001b[1;36m104\u001b[0m\u001b[1;33m,\u001b[0m \u001b[1;36m105\u001b[0m\u001b[1;33m,\u001b[0m \u001b[1;36m108\u001b[0m\u001b[1;33m,\u001b[0m \u001b[1;36m111\u001b[0m\u001b[1;33m,\u001b[0m \u001b[1;36m113\u001b[0m\u001b[1;33m,\u001b[0m \u001b[1;36m114\u001b[0m\u001b[1;33m,\u001b[0m \u001b[1;36m115\u001b[0m\u001b[1;33m]\u001b[0m\u001b[1;33m:\u001b[0m\u001b[1;33m\u001b[0m\u001b[1;33m\u001b[0m\u001b[0m\n\u001b[1;32m-> 1406\u001b[1;33m             \u001b[1;32mraise\u001b[0m \u001b[0mValueError\u001b[0m\u001b[1;33m(\u001b[0m\u001b[0m_version_error\u001b[0m\u001b[1;33m.\u001b[0m\u001b[0mformat\u001b[0m\u001b[1;33m(\u001b[0m\u001b[0mversion\u001b[0m\u001b[1;33m=\u001b[0m\u001b[0mself\u001b[0m\u001b[1;33m.\u001b[0m\u001b[0mformat_version\u001b[0m\u001b[1;33m)\u001b[0m\u001b[1;33m)\u001b[0m\u001b[1;33m\u001b[0m\u001b[1;33m\u001b[0m\u001b[0m\n\u001b[0m\u001b[0;32m   1407\u001b[0m         \u001b[0mself\u001b[0m\u001b[1;33m.\u001b[0m\u001b[0m_set_encoding\u001b[0m\u001b[1;33m(\u001b[0m\u001b[1;33m)\u001b[0m\u001b[1;33m\u001b[0m\u001b[1;33m\u001b[0m\u001b[0m\n\u001b[0;32m   1408\u001b[0m         self.byteorder = (\n",
      "\u001b[1;31mValueError\u001b[0m: Version of given Stata file is 80. pandas supports importing versions 105, 108, 111 (Stata 7SE), 113 (Stata 8/9), 114 (Stata 10/11), 115 (Stata 12), 117 (Stata 13), 118 (Stata 14/15/16),and 119 (Stata 15/16, over 32,767 variables)."
     ]
    }
   ],
   "source": [
    "def read_file(path, format = 'dta'):\n",
    "    df = pd.read_stata(path)\n",
    "    return df\n",
    "\n",
    "read_file(dataset_file_path[4])"
   ]
  }
 ],
 "metadata": {
  "kernelspec": {
   "display_name": "Python 3 (ipykernel)",
   "language": "python",
   "name": "python3"
  },
  "language_info": {
   "codemirror_mode": {
    "name": "ipython",
    "version": 3
   },
   "file_extension": ".py",
   "mimetype": "text/x-python",
   "name": "python",
   "nbconvert_exporter": "python",
   "pygments_lexer": "ipython3",
   "version": "3.9.17"
  }
 },
 "nbformat": 4,
 "nbformat_minor": 5
}
